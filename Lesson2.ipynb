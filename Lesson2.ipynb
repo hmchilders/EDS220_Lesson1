{
 "cells": [
  {
   "cell_type": "markdown",
   "id": "c249c5bf-c821-4617-90c7-c8e6a7aeae2b",
   "metadata": {},
   "source": [
    "# Objective\n",
    "\n",
    "In this lesson we cover the two core objects in the pandas library, the pandas.Series and the pandas.DataFrame. We will also learn methods to select data from our datasets.\n",
    "\n",
    "## Pandas\n",
    "- Python package to wrangle and analyze tabular data  \n",
    "- built on top of NumPy \n",
    "- the core tool for doing data analysis in Python."
   ]
  },
  {
   "cell_type": "code",
   "execution_count": 2,
   "id": "0c684a65-d9a5-4723-9888-51990ee8d09d",
   "metadata": {
    "tags": []
   },
   "outputs": [],
   "source": [
    "import pandas as pd\n",
    "\n",
    "# we will also import numpy \n",
    "import numpy as np"
   ]
  },
  {
   "cell_type": "markdown",
   "id": "0f4de590-d576-4ba3-a009-78c4db098b7f",
   "metadata": {},
   "source": [
    "# Series\n",
    "A pandas.series:\n",
    "    - is one of the core datat structures in 'pandas'\n",
    "    - a 1-dim array of indexed data\n",
    "    - will be the columns of the pandas.DataFrame\n",
    "    \n",
    "## Creating a Pandas Series\n",
    "Several ways of creating a pandas Series:\n",
    "```\n",
    "s = pd.Series(data, index=index)\n",
    "```\n",
    "\n",
    "- data = numpy array (or a list of objects that can be converter to NumPy types)\n",
    "- index = a list of indices of same length as data\n"
   ]
  },
  {
   "cell_type": "code",
   "execution_count": 4,
   "id": "68b70071-3b24-4985-9179-ed18c57a3a3e",
   "metadata": {
    "tags": []
   },
   "outputs": [
    {
     "data": {
      "text/plain": [
       "array([0, 1, 2])"
      ]
     },
     "execution_count": 4,
     "metadata": {},
     "output_type": "execute_result"
    }
   ],
   "source": [
    "#EX: a pandas series from a numpy array\n",
    "\n",
    "#np.arrange() function constructs an array of consecutive integers\n",
    "np.arange(3)"
   ]
  },
  {
   "cell_type": "code",
   "execution_count": 5,
   "id": "b1d2c360-e514-457f-9472-65684182b14c",
   "metadata": {
    "tags": []
   },
   "outputs": [
    {
     "data": {
      "text/plain": [
       "a    0\n",
       "b    1\n",
       "c    2\n",
       "dtype: int64"
      ]
     },
     "execution_count": 5,
     "metadata": {},
     "output_type": "execute_result"
    }
   ],
   "source": [
    "# We can use this to create a pandas series\n",
    "pd.Series(np.arange(3), index = ['a', 'b', 'c'])"
   ]
  },
  {
   "cell_type": "code",
   "execution_count": null,
   "id": "97d8a5ab-b3db-4c4a-a36d-8bd7a2850c3b",
   "metadata": {},
   "outputs": [],
   "source": [
    "#What kind of parameter is index?\n",
    "    #Answer: Optional Parameter! inside the series function, the defoult for \n",
    "    #index is to start at zero but you can overwrite it to start at a different value"
   ]
  },
  {
   "cell_type": "code",
   "execution_count": 6,
   "id": "a83c2bf3-5f8b-46ab-b9ca-06dc39db399b",
   "metadata": {
    "tags": []
   },
   "outputs": [
    {
     "data": {
      "text/plain": [
       "0    EDS220\n",
       "1    EDS222\n",
       "2    EDS223\n",
       "3    EDS242\n",
       "dtype: object"
      ]
     },
     "execution_count": 6,
     "metadata": {},
     "output_type": "execute_result"
    }
   ],
   "source": [
    "# Create a series from a list of strings with default index\n",
    "pd.Series(['EDS220', 'EDS222', \"EDS223\", \"EDS242\"])"
   ]
  },
  {
   "cell_type": "markdown",
   "id": "56ec3b61-4483-4192-8928-85c3838282f3",
   "metadata": {},
   "source": [
    "# Operations and Series\n",
    "Arithmetic operations work on series and also most NumPy functions. For example:"
   ]
  },
  {
   "cell_type": "code",
   "execution_count": 10,
   "id": "d125a0dd-29b0-46f2-9403-8ef969aeaa28",
   "metadata": {
    "tags": []
   },
   "outputs": [
    {
     "name": "stdout",
     "output_type": "stream",
     "text": [
      "Andrea      98\n",
      "Beth        73\n",
      "Carolina    65\n",
      "dtype: int64 \n",
      "\n",
      "Andrea      9.8\n",
      "Beth        7.3\n",
      "Carolina    6.5\n",
      "dtype: float64 \n",
      "\n",
      "Andrea      3.637971e+42\n",
      "Beth        5.052394e+31\n",
      "Carolina    1.694889e+28\n",
      "dtype: float64 \n",
      "\n",
      "Andrea      98\n",
      "Beth        73\n",
      "Carolina    65\n",
      "dtype: int64\n"
     ]
    }
   ],
   "source": [
    "# define a series\n",
    "s = pd.Series([98,73,65],index=['Andrea', 'Beth', 'Carolina'])\n",
    "print(s, '\\n')\n",
    "\n",
    "# divide each element in series by 10\n",
    "print(s /10, '\\n')\n",
    "\n",
    "# take the exponential of each element in series\n",
    "print(np.exp(s), '\\n')\n",
    "\n",
    "# notice this doesn't change the values of our series\n",
    "print(s)"
   ]
  },
  {
   "cell_type": "code",
   "execution_count": 11,
   "id": "859512a3-eb0e-4d4f-9533-a93097e3388d",
   "metadata": {
    "tags": []
   },
   "outputs": [
    {
     "data": {
      "text/plain": [
       "Andrea       True\n",
       "Beth         True\n",
       "Carolina    False\n",
       "dtype: bool"
      ]
     },
     "execution_count": 11,
     "metadata": {},
     "output_type": "execute_result"
    }
   ],
   "source": [
    "#Create a True/False list\n",
    "s>70"
   ]
  },
  {
   "cell_type": "markdown",
   "id": "c6feade8-cd94-4615-88bd-3c2016ff45a7",
   "metadata": {},
   "source": [
    "## Attributes and Methods\n",
    "\n",
    "pandas.Series have many attributes and methods, you can see a full list in the pandas documentation. For now we will cover two examples that have to do with identifying missing values.\n",
    "\n",
    "pandas represents a missing or NA value with NaN, which stands for not a number. Let’s construct a small series with some NA values:"
   ]
  },
  {
   "cell_type": "code",
   "execution_count": 15,
   "id": "aec3ad8e-4f6a-4cc3-9077-a4c3cfb515bc",
   "metadata": {
    "tags": []
   },
   "outputs": [
    {
     "name": "stdout",
     "output_type": "stream",
     "text": [
      "0    1.0\n",
      "1    2.0\n",
      "2    NaN\n",
      "3    4.0\n",
      "4    NaN\n",
      "dtype: float64 \n",
      "\n",
      "True \n",
      "\n"
     ]
    },
    {
     "data": {
      "text/plain": [
       "0    False\n",
       "1    False\n",
       "2     True\n",
       "3    False\n",
       "4     True\n",
       "dtype: bool"
      ]
     },
     "execution_count": 15,
     "metadata": {},
     "output_type": "execute_result"
    }
   ],
   "source": [
    "# series with NAs in it\n",
    "s = pd.Series([1, 2, np.NaN, 4, np.NaN])\n",
    "print(s, '\\n')\n",
    "\n",
    "# check if series has NAs\n",
    "print(s.hasnans, '\\n')\n",
    "\n",
    "#which elements in the series are NAs\n",
    "s.isna()"
   ]
  },
  {
   "cell_type": "markdown",
   "id": "6351e462-0847-4d14-b18a-ef2dd084f5cf",
   "metadata": {},
   "source": [
    "# Data Frames\n",
    "We already mentioned each column of a pandas.DataFrame is a pandas.Series. In fact, the pandas.DataFrame is a dictionary of pandas.Series, with each column name being the key and the column values being the key’s value. \n",
    "- key: column names\n",
    "- values: column values\n",
    "Thus, we can create a pandas.DataFrame in this way:"
   ]
  },
  {
   "cell_type": "code",
   "execution_count": 20,
   "id": "43adf6dd-65f5-4152-b450-47ea14e8a99c",
   "metadata": {
    "tags": []
   },
   "outputs": [
    {
     "name": "stdout",
     "output_type": "stream",
     "text": [
      "RangeIndex(start=0, stop=3, step=1)\n"
     ]
    },
    {
     "data": {
      "text/html": [
       "<div>\n",
       "<style scoped>\n",
       "    .dataframe tbody tr th:only-of-type {\n",
       "        vertical-align: middle;\n",
       "    }\n",
       "\n",
       "    .dataframe tbody tr th {\n",
       "        vertical-align: top;\n",
       "    }\n",
       "\n",
       "    .dataframe thead th {\n",
       "        text-align: right;\n",
       "    }\n",
       "</style>\n",
       "<table border=\"1\" class=\"dataframe\">\n",
       "  <thead>\n",
       "    <tr style=\"text-align: right;\">\n",
       "      <th></th>\n",
       "      <th>index</th>\n",
       "      <th>prob#</th>\n",
       "      <th>title</th>\n",
       "    </tr>\n",
       "  </thead>\n",
       "  <tbody>\n",
       "    <tr>\n",
       "      <th>a</th>\n",
       "      <td>0</td>\n",
       "      <td>3.1</td>\n",
       "      <td>Problem3 Example1</td>\n",
       "    </tr>\n",
       "    <tr>\n",
       "      <th>b</th>\n",
       "      <td>1</td>\n",
       "      <td>3.2</td>\n",
       "      <td>Problem3 Example2</td>\n",
       "    </tr>\n",
       "    <tr>\n",
       "      <th>c</th>\n",
       "      <td>2</td>\n",
       "      <td>3.3</td>\n",
       "      <td>Problem3 Example3</td>\n",
       "    </tr>\n",
       "  </tbody>\n",
       "</table>\n",
       "</div>"
      ],
      "text/plain": [
       "   index  prob#              title\n",
       "a      0    3.1  Problem3 Example1\n",
       "b      1    3.2  Problem3 Example2\n",
       "c      2    3.3  Problem3 Example3"
      ]
     },
     "execution_count": 20,
     "metadata": {},
     "output_type": "execute_result"
    }
   ],
   "source": [
    "# initialize dictionary with columns' data \n",
    "d = {'index' : pd.Series(np.arange(3)),\n",
    "     'prob#' : pd.Series([3.1, 3.2, 3.3]),\n",
    "     'title' : pd.Series(['Problem3 Example1', 'Problem3 Example2', 'Problem3 Example3'])\n",
    "     }\n",
    "\n",
    "# create data frame\n",
    "df = pd.DataFrame(d)\n",
    "\n",
    "print(df.index)\n",
    "\n",
    "# change the index\n",
    "df.index = ['a','b','c']\n",
    "df"
   ]
  },
  {
   "cell_type": "markdown",
   "id": "55b2f96a-6b26-453a-bcaa-25b5558409eb",
   "metadata": {},
   "source": [
    "# in-place operations\n",
    "rename is an example of an inplace operations. in place operations dont change the actual dataset becuase tehy're not being stored but you can output the changes"
   ]
  },
  {
   "cell_type": "code",
   "execution_count": null,
   "id": "51d8fe73-dc6f-4de6-9d00-12fabfdfcfd3",
   "metadata": {},
   "outputs": [],
   "source": []
  }
 ],
 "metadata": {
  "kernelspec": {
   "display_name": "Anaconda 3 (Base)",
   "language": "python",
   "name": "base"
  },
  "language_info": {
   "codemirror_mode": {
    "name": "ipython",
    "version": 3
   },
   "file_extension": ".py",
   "mimetype": "text/x-python",
   "name": "python",
   "nbconvert_exporter": "python",
   "pygments_lexer": "ipython3",
   "version": "3.9.13"
  }
 },
 "nbformat": 4,
 "nbformat_minor": 5
}
