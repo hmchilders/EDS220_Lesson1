{
 "cells": [
  {
   "cell_type": "markdown",
   "id": "a5de69df-e49d-4624-ae9e-18b46060d86b",
   "metadata": {},
   "source": [
    "## Lecture 1\n",
    "\n",
    "### Numpy\n",
    "\n",
    "- one of the core packages for numerical computing in Python\n",
    "- many packages are built on numpy\n",
    "- numpy has been optimized for processing: faster due to memory access"
   ]
  },
  {
   "cell_type": "code",
   "execution_count": 1,
   "id": "51a4f5ad-87ca-4450-a6b9-ef614430b011",
   "metadata": {
    "tags": []
   },
   "outputs": [],
   "source": [
    "#import Numpy with standard abbreviation\n",
    "import numpy as np"
   ]
  },
  {
   "cell_type": "markdown",
   "id": "d0d33e51-19bd-43af-957a-39714fffdd25",
   "metadata": {},
   "source": [
    "### Variables \n",
    "We can think about variables as a name we assign to a particular object in python. For Example:\n"
   ]
  },
  {
   "cell_type": "code",
   "execution_count": 4,
   "id": "1abb29c2-5a78-4b43-972c-9a64b1dbbc8a",
   "metadata": {
    "tags": []
   },
   "outputs": [],
   "source": [
    "#assign a small array to a variable \"a\"\n",
    "a = np.array([[1,1,2],[3,5,8]])"
   ]
  },
  {
   "cell_type": "markdown",
   "id": "ea8c4e38-a7a3-49ae-a6da-895f98dc3ef2",
   "metadata": {},
   "source": [
    "When we run the cell, we store the variable and it's value. We can see the variable's value by either typing the variable and pressing enter or using the print() function"
   ]
  },
  {
   "cell_type": "code",
   "execution_count": 5,
   "id": "44a2062c-ce3a-4d00-992b-67cc4f8c8b1d",
   "metadata": {
    "tags": []
   },
   "outputs": [
    {
     "data": {
      "text/plain": [
       "array([[1, 1, 2],\n",
       "       [3, 5, 8]])"
      ]
     },
     "execution_count": 5,
     "metadata": {},
     "output_type": "execute_result"
    }
   ],
   "source": [
    "a"
   ]
  },
  {
   "cell_type": "code",
   "execution_count": 6,
   "id": "eacdabe6-78b5-4b4f-8a36-7bb58495d480",
   "metadata": {
    "tags": []
   },
   "outputs": [
    {
     "name": "stdout",
     "output_type": "stream",
     "text": [
      "[[1 1 2]\n",
      " [3 5 8]]\n"
     ]
    }
   ],
   "source": [
    "print(a)\n"
   ]
  },
  {
   "cell_type": "markdown",
   "id": "05c3f8c6-5376-47b9-81e3-745344e4bd43",
   "metadata": {},
   "source": [
    "#### Naming Variables\n",
    "In this class, we are going to use snake case for naming variables.\n",
    "\n",
    "#### Variables and objects\n",
    "**object**: often encountered in Python documentation and tutorials\n",
    "\n",
    "DEF: a bundle of properties and actions about something specific\n",
    "EX:\n",
    "- object: data frame\n",
    "- properties: number of rows, number of columns, data created\n",
    "- actions: selecting a row, adding a column\n",
    "\n",
    "A variable is a name we give a specific object, and the same object can be referenced by different variables.\n",
    "EX:\n",
    "- The Sun = object\n",
    "- sol = spanish word for Sun = variable\n",
    "\n",
    "In practice: we will use object and variable interchangeably\n"
   ]
  },
  {
   "cell_type": "markdown",
   "id": "871c0e24-b5c5-4636-bcef-96946fc4ffb6",
   "metadata": {},
   "source": [
    "### Types\n",
    "Each object in Python has a type.\n",
    "\n",
    "DEF: Type = what kind of object it is\n",
    "\n",
    "We can also call the type of the object, the class of the object\n",
    "We can see the type/class of an object by using the type function"
   ]
  },
  {
   "cell_type": "code",
   "execution_count": 7,
   "id": "0993f17b-536c-4f97-8b37-14515821441c",
   "metadata": {
    "tags": []
   },
   "outputs": [
    {
     "data": {
      "text/plain": [
       "numpy.ndarray"
      ]
     },
     "execution_count": 7,
     "metadata": {},
     "output_type": "execute_result"
    }
   ],
   "source": [
    "type(a)\n"
   ]
  },
  {
   "cell_type": "markdown",
   "id": "afa73d7a-7d0f-4e3c-b018-fe3c2e7eb9b3",
   "metadata": {},
   "source": [
    "The numpy.ndarray is the core object/data type in the NumPy package. We can check the type of an entry in the array by indexing:\n",
    "    "
   ]
  },
  {
   "cell_type": "code",
   "execution_count": 8,
   "id": "798add76-4064-4437-bce7-dad3fc23039d",
   "metadata": {
    "tags": []
   },
   "outputs": [
    {
     "name": "stdout",
     "output_type": "stream",
     "text": [
      "1\n"
     ]
    }
   ],
   "source": [
    "print(a[0,0])"
   ]
  },
  {
   "cell_type": "code",
   "execution_count": 9,
   "id": "b698113d-7c3f-4848-a9b1-b4e427f35a80",
   "metadata": {
    "tags": []
   },
   "outputs": [
    {
     "data": {
      "text/plain": [
       "numpy.int64"
      ]
     },
     "execution_count": 9,
     "metadata": {},
     "output_type": "execute_result"
    }
   ],
   "source": [
    "type(a[0,0])"
   ]
  },
  {
   "cell_type": "markdown",
   "id": "1793625a-c2b0-4bf1-b89b-fb1143a9a69b",
   "metadata": {},
   "source": [
    "## How would you access the value 5 in the array?"
   ]
  },
  {
   "cell_type": "code",
   "execution_count": 10,
   "id": "b411af6a-d3c5-46a4-8368-b1a0f88ce7d2",
   "metadata": {
    "tags": []
   },
   "outputs": [
    {
     "name": "stdout",
     "output_type": "stream",
     "text": [
      "5\n"
     ]
    }
   ],
   "source": [
    "print(a[1,1])"
   ]
  },
  {
   "cell_type": "markdown",
   "id": "89c8264e-4841-4106-b456-b4762bfd8f4a",
   "metadata": {},
   "source": [
    "## Functions\n",
    "'print' was our example of a python function\n",
    "\n",
    "Functions take in a set of arguments, separated by commas, and use those arguments to create some output. There are several built-in funcions in Python, most of them are for interacting with the basic Python data types\n",
    "- We can interchangeably say arguments or parameters. You will see argument more often in the documentation.\n"
   ]
  },
  {
   "cell_type": "code",
   "execution_count": 11,
   "id": "64eab15a-3663-4816-a4f3-c6e7b44000b2",
   "metadata": {
    "tags": []
   },
   "outputs": [
    {
     "data": {
      "text/plain": [
       "\u001b[0;31mDocstring:\u001b[0m\n",
       "print(value, ..., sep=' ', end='\\n', file=sys.stdout, flush=False)\n",
       "\n",
       "Prints the values to a stream, or to sys.stdout by default.\n",
       "Optional keyword arguments:\n",
       "file:  a file-like object (stream); defaults to the current sys.stdout.\n",
       "sep:   string inserted between values, default a space.\n",
       "end:   string appended after the last value, default a newline.\n",
       "flush: whether to forcibly flush the stream.\n",
       "\u001b[0;31mType:\u001b[0m      builtin_function_or_method\n"
      ]
     },
     "metadata": {},
     "output_type": "display_data"
    }
   ],
   "source": [
    "#We can ask for information about a function by executing ? followed by the function name:\n",
    "?print"
   ]
  },
  {
   "cell_type": "markdown",
   "id": "1ee8f151-5370-4f8e-8547-92aec8c09d3b",
   "metadata": {},
   "source": [
    "- first line is always the function showing all of its arguments in parenthesis. \n",
    "- Then a short description of what the function does. \n",
    "- finally a list of the arguments and a brief explanation about each of them.\n",
    "\n",
    "You can see there are different types of arguments inside the parenthesis. Roughly speaking, a function has two types of arguments:\n",
    "- **non-optional arguments**: arguments you need to specify for the function to do something\n",
    "- **optional arguments**: arguemnts that are prefilled but can be over written if we specify them. Optional arguments appear inside the parenthesis"
   ]
  },
  {
   "cell_type": "code",
   "execution_count": 13,
   "id": "8051e524-176d-4a70-937a-7394401745a1",
   "metadata": {
    "tags": []
   },
   "outputs": [
    {
     "name": "stdout",
     "output_type": "stream",
     "text": [
      "changing the default argument of a print function :)"
     ]
    }
   ],
   "source": [
    "print('changing the default argument of a print function', end=' :)')"
   ]
  },
  {
   "cell_type": "markdown",
   "id": "1db8fa31-61fa-4668-be9e-5897827ffc45",
   "metadata": {},
   "source": [
    "## Attributes and Methods"
   ]
  }
 ],
 "metadata": {
  "kernelspec": {
   "display_name": "Anaconda 3 (Base)",
   "language": "python",
   "name": "base"
  },
  "language_info": {
   "codemirror_mode": {
    "name": "ipython",
    "version": 3
   },
   "file_extension": ".py",
   "mimetype": "text/x-python",
   "name": "python",
   "nbconvert_exporter": "python",
   "pygments_lexer": "ipython3",
   "version": "3.9.13"
  }
 },
 "nbformat": 4,
 "nbformat_minor": 5
}
